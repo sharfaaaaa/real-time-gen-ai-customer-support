{
  "nbformat": 4,
  "nbformat_minor": 0,
  "metadata": {
    "colab": {
      "provenance": [],
      "gpuType": "T4"
    },
    "kernelspec": {
      "name": "python3",
      "display_name": "Python 3"
    },
    "language_info": {
      "name": "python"
    },
    "accelerator": "GPU"
  },
  "cells": [
    {
      "cell_type": "code",
      "source": [
        "pip install nltk"
      ],
      "metadata": {
        "colab": {
          "base_uri": "https://localhost:8080/"
        },
        "id": "zE4hErPyeJtB",
        "outputId": "bd18c533-61e8-4adb-8b32-4d62d5be07b9"
      },
      "execution_count": null,
      "outputs": [
        {
          "output_type": "stream",
          "name": "stdout",
          "text": [
            "Requirement already satisfied: nltk in /usr/local/lib/python3.10/dist-packages (3.8.1)\n",
            "Requirement already satisfied: click in /usr/local/lib/python3.10/dist-packages (from nltk) (8.1.7)\n",
            "Requirement already satisfied: joblib in /usr/local/lib/python3.10/dist-packages (from nltk) (1.4.2)\n",
            "Requirement already satisfied: regex>=2021.8.3 in /usr/local/lib/python3.10/dist-packages (from nltk) (2024.5.15)\n",
            "Requirement already satisfied: tqdm in /usr/local/lib/python3.10/dist-packages (from nltk) (4.66.4)\n"
          ]
        }
      ]
    },
    {
      "cell_type": "code",
      "source": [
        "paragraph = \"\"\"\n",
        "Elon Reeve Musk (/ˈiːlɒn/; born June 28, 1971) is a businessman and investor known for his key roles in space company SpaceX and automotive company Tesla, Inc. Other involvements include ownership of X Corp., formerly Twitter, and his role in the founding of The Boring Company, xAI, Neuralink and OpenAI. He is one of the wealthiest people in the world; as of June 2024, Forbes estimates his net worth to be US$214 billion.[4]\n",
        "Musk was born in Pretoria, a member of the South African Musk family, and briefly attended the University of Pretoria before immigrating to Canada at age 18, acquiring citizenship through his Canadian-born mother. Two years later, he matriculated at Queen's University at Kingston in Canada. Musk later transferred to the University of Pennsylvania and received bachelor's degrees in economics and physics. He moved to California in 1995 to attend Stanford University, but dropped out after two days and, with his brother Kimbal, co-founded online city guide software company Zip2. The startup was acquired by Compaq for $307 million in 1999. That same year, Musk co-founded X.com, a direct bank. X.com merged with Confinity in 2000 to form PayPal. In October 2002, eBay acquired PayPal for $1.5 billion. Using $100 million of the money he made from the sale of PayPal, Musk founded SpaceX, a spaceflight services company, in 2002.\n",
        "\"\"\""
      ],
      "metadata": {
        "id": "paMUVhcUeQNr"
      },
      "execution_count": null,
      "outputs": []
    },
    {
      "cell_type": "code",
      "source": [
        "import nltk\n",
        "from nltk.stem import PorterStemmer\n",
        "from nltk.corpus import stopwords"
      ],
      "metadata": {
        "id": "6fFjZ6-Xeheu"
      },
      "execution_count": null,
      "outputs": []
    },
    {
      "cell_type": "code",
      "source": [
        "nltk.download('punkt')"
      ],
      "metadata": {
        "colab": {
          "base_uri": "https://localhost:8080/"
        },
        "id": "gjBAjKSueuBC",
        "outputId": "5827b0b5-c411-4eff-9999-69ddc549cd6a"
      },
      "execution_count": null,
      "outputs": [
        {
          "output_type": "stream",
          "name": "stderr",
          "text": [
            "[nltk_data] Downloading package punkt to /root/nltk_data...\n",
            "[nltk_data]   Unzipping tokenizers/punkt.zip.\n"
          ]
        },
        {
          "output_type": "execute_result",
          "data": {
            "text/plain": [
              "True"
            ]
          },
          "metadata": {},
          "execution_count": 4
        }
      ]
    },
    {
      "cell_type": "code",
      "source": [
        "sentence = nltk.sent_tokenize(paragraph)"
      ],
      "metadata": {
        "id": "CiWvc3bre1DT"
      },
      "execution_count": null,
      "outputs": []
    },
    {
      "cell_type": "code",
      "source": [
        "type(sentence)"
      ],
      "metadata": {
        "colab": {
          "base_uri": "https://localhost:8080/"
        },
        "id": "-hCEgUEce9Tq",
        "outputId": "4a0c6cc7-3648-47e5-bbd1-c93aa31398fc"
      },
      "execution_count": null,
      "outputs": [
        {
          "output_type": "execute_result",
          "data": {
            "text/plain": [
              "list"
            ]
          },
          "metadata": {},
          "execution_count": 6
        }
      ]
    },
    {
      "cell_type": "code",
      "source": [
        "print(sentence)"
      ],
      "metadata": {
        "colab": {
          "base_uri": "https://localhost:8080/"
        },
        "id": "pNnIxbq2fAVH",
        "outputId": "81c15007-1354-4f63-8a2e-45e2c1bc5a81"
      },
      "execution_count": null,
      "outputs": [
        {
          "output_type": "stream",
          "name": "stdout",
          "text": [
            "['\\nElon Reeve Musk (/ˈiːlɒn/; born June 28, 1971) is a businessman and investor known for his key roles in space company SpaceX and automotive company Tesla, Inc. Other involvements include ownership of X Corp., formerly Twitter, and his role in the founding of The Boring Company, xAI, Neuralink and OpenAI.', 'He is one of the wealthiest people in the world; as of June 2024, Forbes estimates his net worth to be US$214 billion.', '[4]\\nMusk was born in Pretoria, a member of the South African Musk family, and briefly attended the University of Pretoria before immigrating to Canada at age 18, acquiring citizenship through his Canadian-born mother.', \"Two years later, he matriculated at Queen's University at Kingston in Canada.\", \"Musk later transferred to the University of Pennsylvania and received bachelor's degrees in economics and physics.\", 'He moved to California in 1995 to attend Stanford University, but dropped out after two days and, with his brother Kimbal, co-founded online city guide software company Zip2.', 'The startup was acquired by Compaq for $307 million in 1999.', 'That same year, Musk co-founded X.com, a direct bank.', 'X.com merged with Confinity in 2000 to form PayPal.', 'In October 2002, eBay acquired PayPal for $1.5 billion.', 'Using $100 million of the money he made from the sale of PayPal, Musk founded SpaceX, a spaceflight services company, in 2002.']\n"
          ]
        }
      ]
    },
    {
      "cell_type": "code",
      "source": [
        "stemmer = PorterStemmer()\n",
        "stemmer.stem('acquiring')"
      ],
      "metadata": {
        "colab": {
          "base_uri": "https://localhost:8080/",
          "height": 36
        },
        "id": "Ze1PhQElfFkk",
        "outputId": "3b031ac3-3dcb-4a59-946d-245381a5e571"
      },
      "execution_count": null,
      "outputs": [
        {
          "output_type": "execute_result",
          "data": {
            "text/plain": [
              "'acquir'"
            ],
            "application/vnd.google.colaboratory.intrinsic+json": {
              "type": "string"
            }
          },
          "metadata": {},
          "execution_count": 8
        }
      ]
    },
    {
      "cell_type": "code",
      "source": [
        "nltk.download('wordnet')"
      ],
      "metadata": {
        "colab": {
          "base_uri": "https://localhost:8080/"
        },
        "id": "6mMvO0d3fT8q",
        "outputId": "2f309707-3a1c-4044-f404-7fb4a4e53d22"
      },
      "execution_count": null,
      "outputs": [
        {
          "output_type": "stream",
          "name": "stderr",
          "text": [
            "[nltk_data] Downloading package wordnet to /root/nltk_data...\n"
          ]
        },
        {
          "output_type": "execute_result",
          "data": {
            "text/plain": [
              "True"
            ]
          },
          "metadata": {},
          "execution_count": 9
        }
      ]
    },
    {
      "cell_type": "code",
      "source": [
        "from nltk.stem import WordNetLemmatizer\n",
        "lemmatizer = WordNetLemmatizer()\n",
        "lemmatizer.lemmatize('goes')"
      ],
      "metadata": {
        "colab": {
          "base_uri": "https://localhost:8080/",
          "height": 36
        },
        "id": "gaNkdIRDfkF4",
        "outputId": "7da78cff-ee44-41dc-ee7d-96a0986c5792"
      },
      "execution_count": null,
      "outputs": [
        {
          "output_type": "execute_result",
          "data": {
            "text/plain": [
              "'go'"
            ],
            "application/vnd.google.colaboratory.intrinsic+json": {
              "type": "string"
            }
          },
          "metadata": {},
          "execution_count": 10
        }
      ]
    },
    {
      "cell_type": "code",
      "source": [
        "import re\n",
        "corpus = []\n",
        "for i in range(len(sentence)):\n",
        "  text = re.sub('[^a-zA-Z]',\" \", sentence[i])\n",
        "  text = text.lower()\n",
        "  corpus.append(text)\n",
        "corpus"
      ],
      "metadata": {
        "colab": {
          "base_uri": "https://localhost:8080/"
        },
        "id": "ZS5uKZXWf0Ap",
        "outputId": "a35f7bc6-91c2-4a00-f7cb-ee5329e8bca6"
      },
      "execution_count": null,
      "outputs": [
        {
          "output_type": "execute_result",
          "data": {
            "text/plain": [
              "[' elon reeve musk    i l n   born june           is a businessman and investor known for his key roles in space company spacex and automotive company tesla  inc  other involvements include ownership of x corp   formerly twitter  and his role in the founding of the boring company  xai  neuralink and openai ',\n",
              " 'he is one of the wealthiest people in the world  as of june       forbes estimates his net worth to be us     billion ',\n",
              " '    musk was born in pretoria  a member of the south african musk family  and briefly attended the university of pretoria before immigrating to canada at age     acquiring citizenship through his canadian born mother ',\n",
              " 'two years later  he matriculated at queen s university at kingston in canada ',\n",
              " 'musk later transferred to the university of pennsylvania and received bachelor s degrees in economics and physics ',\n",
              " 'he moved to california in      to attend stanford university  but dropped out after two days and  with his brother kimbal  co founded online city guide software company zip  ',\n",
              " 'the startup was acquired by compaq for      million in      ',\n",
              " 'that same year  musk co founded x com  a direct bank ',\n",
              " 'x com merged with confinity in      to form paypal ',\n",
              " 'in october       ebay acquired paypal for      billion ',\n",
              " 'using      million of the money he made from the sale of paypal  musk founded spacex  a spaceflight services company  in      ']"
            ]
          },
          "metadata": {},
          "execution_count": 11
        }
      ]
    },
    {
      "cell_type": "code",
      "source": [
        "nltk.download('stopwords')"
      ],
      "metadata": {
        "colab": {
          "base_uri": "https://localhost:8080/"
        },
        "id": "KfvL6DA1hqP1",
        "outputId": "67ef1506-6ece-4ffa-96bb-c77773483f84"
      },
      "execution_count": null,
      "outputs": [
        {
          "output_type": "stream",
          "name": "stderr",
          "text": [
            "[nltk_data] Downloading package stopwords to /root/nltk_data...\n",
            "[nltk_data]   Unzipping corpora/stopwords.zip.\n"
          ]
        },
        {
          "output_type": "execute_result",
          "data": {
            "text/plain": [
              "True"
            ]
          },
          "metadata": {},
          "execution_count": 12
        }
      ]
    },
    {
      "cell_type": "code",
      "source": [
        "for i in corpus:\n",
        "  words = nltk.word_tokenize(i)\n",
        "  for word in words:\n",
        "    if word not in set(stopwords.words('english')):\n",
        "      print(stemmer.stem(word))"
      ],
      "metadata": {
        "colab": {
          "base_uri": "https://localhost:8080/"
        },
        "id": "FglndRo0i7b1",
        "outputId": "69674b74-4cd8-4613-dd8b-33eb12ff8101"
      },
      "execution_count": null,
      "outputs": [
        {
          "output_type": "stream",
          "name": "stdout",
          "text": [
            "elon\n",
            "reev\n",
            "musk\n",
            "l\n",
            "n\n",
            "born\n",
            "june\n",
            "businessman\n",
            "investor\n",
            "known\n",
            "key\n",
            "role\n",
            "space\n",
            "compani\n",
            "spacex\n",
            "automot\n",
            "compani\n",
            "tesla\n",
            "inc\n",
            "involv\n",
            "includ\n",
            "ownership\n",
            "x\n",
            "corp\n",
            "formerli\n",
            "twitter\n",
            "role\n",
            "found\n",
            "bore\n",
            "compani\n",
            "xai\n",
            "neuralink\n",
            "openai\n",
            "one\n",
            "wealthiest\n",
            "peopl\n",
            "world\n",
            "june\n",
            "forb\n",
            "estim\n",
            "net\n",
            "worth\n",
            "us\n",
            "billion\n",
            "musk\n",
            "born\n",
            "pretoria\n",
            "member\n",
            "south\n",
            "african\n",
            "musk\n",
            "famili\n",
            "briefli\n",
            "attend\n",
            "univers\n",
            "pretoria\n",
            "immigr\n",
            "canada\n",
            "age\n",
            "acquir\n",
            "citizenship\n",
            "canadian\n",
            "born\n",
            "mother\n",
            "two\n",
            "year\n",
            "later\n",
            "matricul\n",
            "queen\n",
            "univers\n",
            "kingston\n",
            "canada\n",
            "musk\n",
            "later\n",
            "transfer\n",
            "univers\n",
            "pennsylvania\n",
            "receiv\n",
            "bachelor\n",
            "degre\n",
            "econom\n",
            "physic\n",
            "move\n",
            "california\n",
            "attend\n",
            "stanford\n",
            "univers\n",
            "drop\n",
            "two\n",
            "day\n",
            "brother\n",
            "kimbal\n",
            "co\n",
            "found\n",
            "onlin\n",
            "citi\n",
            "guid\n",
            "softwar\n",
            "compani\n",
            "zip\n",
            "startup\n",
            "acquir\n",
            "compaq\n",
            "million\n",
            "year\n",
            "musk\n",
            "co\n",
            "found\n",
            "x\n",
            "com\n",
            "direct\n",
            "bank\n",
            "x\n",
            "com\n",
            "merg\n",
            "confin\n",
            "form\n",
            "paypal\n",
            "octob\n",
            "ebay\n",
            "acquir\n",
            "paypal\n",
            "billion\n",
            "use\n",
            "million\n",
            "money\n",
            "made\n",
            "sale\n",
            "paypal\n",
            "musk\n",
            "found\n",
            "spacex\n",
            "spaceflight\n",
            "servic\n",
            "compani\n"
          ]
        }
      ]
    },
    {
      "cell_type": "code",
      "source": [
        "from sklearn.feature_extraction.text import CountVectorizer\n",
        "cv = CountVectorizer()\n",
        "x = cv.fit_transform(corpus)\n",
        "cv.vocabulary_"
      ],
      "metadata": {
        "colab": {
          "base_uri": "https://localhost:8080/"
        },
        "id": "C_CSpxEUjSsF",
        "outputId": "ca1decd7-abbe-4633-8cbe-8d74e164d708",
        "collapsed": true
      },
      "execution_count": null,
      "outputs": [
        {
          "output_type": "execute_result",
          "data": {
            "text/plain": [
              "{'elon': 40,\n",
              " 'reeve': 92,\n",
              " 'musk': 74,\n",
              " 'born': 17,\n",
              " 'june': 60,\n",
              " 'is': 59,\n",
              " 'businessman': 20,\n",
              " 'and': 5,\n",
              " 'investor': 57,\n",
              " 'known': 64,\n",
              " 'for': 43,\n",
              " 'his': 52,\n",
              " 'key': 61,\n",
              " 'roles': 94,\n",
              " 'in': 54,\n",
              " 'space': 100,\n",
              " 'company': 30,\n",
              " 'spacex': 102,\n",
              " 'automotive': 10,\n",
              " 'tesla': 105,\n",
              " 'inc': 55,\n",
              " 'other': 82,\n",
              " 'involvements': 58,\n",
              " 'include': 56,\n",
              " 'ownership': 84,\n",
              " 'of': 78,\n",
              " 'corp': 33,\n",
              " 'formerly': 46,\n",
              " 'twitter': 111,\n",
              " 'role': 93,\n",
              " 'the': 107,\n",
              " 'founding': 48,\n",
              " 'boring': 16,\n",
              " 'xai': 121,\n",
              " 'neuralink': 76,\n",
              " 'openai': 81,\n",
              " 'he': 51,\n",
              " 'one': 79,\n",
              " 'wealthiest': 117,\n",
              " 'people': 87,\n",
              " 'world': 119,\n",
              " 'as': 6,\n",
              " 'forbes': 44,\n",
              " 'estimates': 41,\n",
              " 'net': 75,\n",
              " 'worth': 120,\n",
              " 'to': 109,\n",
              " 'be': 13,\n",
              " 'us': 114,\n",
              " 'billion': 15,\n",
              " 'was': 116,\n",
              " 'pretoria': 89,\n",
              " 'member': 68,\n",
              " 'south': 99,\n",
              " 'african': 2,\n",
              " 'family': 42,\n",
              " 'briefly': 18,\n",
              " 'attended': 9,\n",
              " 'university': 113,\n",
              " 'before': 14,\n",
              " 'immigrating': 53,\n",
              " 'canada': 24,\n",
              " 'at': 7,\n",
              " 'age': 4,\n",
              " 'acquiring': 1,\n",
              " 'citizenship': 26,\n",
              " 'through': 108,\n",
              " 'canadian': 25,\n",
              " 'mother': 72,\n",
              " 'two': 112,\n",
              " 'years': 123,\n",
              " 'later': 65,\n",
              " 'matriculated': 67,\n",
              " 'queen': 90,\n",
              " 'kingston': 63,\n",
              " 'transferred': 110,\n",
              " 'pennsylvania': 86,\n",
              " 'received': 91,\n",
              " 'bachelor': 11,\n",
              " 'degrees': 35,\n",
              " 'economics': 39,\n",
              " 'physics': 88,\n",
              " 'moved': 73,\n",
              " 'california': 23,\n",
              " 'attend': 8,\n",
              " 'stanford': 103,\n",
              " 'but': 21,\n",
              " 'dropped': 37,\n",
              " 'out': 83,\n",
              " 'after': 3,\n",
              " 'days': 34,\n",
              " 'with': 118,\n",
              " 'brother': 19,\n",
              " 'kimbal': 62,\n",
              " 'co': 28,\n",
              " 'founded': 47,\n",
              " 'online': 80,\n",
              " 'city': 27,\n",
              " 'guide': 50,\n",
              " 'software': 98,\n",
              " 'zip': 124,\n",
              " 'startup': 104,\n",
              " 'acquired': 0,\n",
              " 'by': 22,\n",
              " 'compaq': 31,\n",
              " 'million': 70,\n",
              " 'that': 106,\n",
              " 'same': 96,\n",
              " 'year': 122,\n",
              " 'com': 29,\n",
              " 'direct': 36,\n",
              " 'bank': 12,\n",
              " 'merged': 69,\n",
              " 'confinity': 32,\n",
              " 'form': 45,\n",
              " 'paypal': 85,\n",
              " 'october': 77,\n",
              " 'ebay': 38,\n",
              " 'using': 115,\n",
              " 'money': 71,\n",
              " 'made': 66,\n",
              " 'from': 49,\n",
              " 'sale': 95,\n",
              " 'spaceflight': 101,\n",
              " 'services': 97}"
            ]
          },
          "metadata": {},
          "execution_count": 14
        }
      ]
    },
    {
      "cell_type": "code",
      "source": [
        "\"Term Frequency - Inverse Document Frequency\"\n",
        "from sklearn.feature_extraction.text import TfidfVectorizer\n",
        "corpus = [\n",
        "    \"I love machine learning\",\n",
        "    \"Machine learning is fun\",\n",
        "    \"I enjoy learning new things\",\n",
        "    \"Natural language processing is a part of machine learning\"\n",
        "]\n",
        "\n",
        "v = TfidfVectorizer()\n",
        "result = v.fit_transform(corpus)\n",
        "print(v.vocabulary_)"
      ],
      "metadata": {
        "id": "UrbLZ0IpPjUc",
        "colab": {
          "base_uri": "https://localhost:8080/"
        },
        "outputId": "7525d392-9f7d-4e32-d748-fc08d6e579a8"
      },
      "execution_count": null,
      "outputs": [
        {
          "output_type": "stream",
          "name": "stdout",
          "text": [
            "{'love': 5, 'machine': 6, 'learning': 4, 'is': 2, 'fun': 1, 'enjoy': 0, 'new': 8, 'things': 12, 'natural': 7, 'language': 3, 'processing': 11, 'part': 10, 'of': 9}\n"
          ]
        }
      ]
    },
    {
      "cell_type": "code",
      "source": [
        "print(result)\n"
      ],
      "metadata": {
        "colab": {
          "base_uri": "https://localhost:8080/"
        },
        "id": "4AU4jLfY1bZ6",
        "outputId": "ac85266a-ca6b-4ceb-e460-22281dc6939e"
      },
      "execution_count": null,
      "outputs": [
        {
          "output_type": "stream",
          "name": "stdout",
          "text": [
            "  (0, 4)\t0.40264193560603856\n",
            "  (0, 6)\t0.4924888870251974\n",
            "  (0, 5)\t0.7715790094657221\n",
            "  (1, 1)\t0.6591911178676787\n",
            "  (1, 2)\t0.5197138488789809\n",
            "  (1, 4)\t0.3439932714296342\n",
            "  (1, 6)\t0.42075315164463567\n",
            "  (2, 12)\t0.5528053199908667\n",
            "  (2, 8)\t0.5528053199908667\n",
            "  (2, 0)\t0.5528053199908667\n",
            "  (2, 4)\t0.2884767487500274\n",
            "  (3, 9)\t0.3983677555530427\n",
            "  (3, 10)\t0.3983677555530427\n",
            "  (3, 11)\t0.3983677555530427\n",
            "  (3, 3)\t0.3983677555530427\n",
            "  (3, 7)\t0.3983677555530427\n",
            "  (3, 2)\t0.314077714180172\n",
            "  (3, 4)\t0.20788482088176377\n",
            "  (3, 6)\t0.25427297807763893\n"
          ]
        }
      ]
    },
    {
      "cell_type": "code",
      "source": [
        "all_feature_names = v.get_feature_names_out()\n",
        "for word in all_feature_names:\n",
        "  indx= v.vocabulary_.get(word)\n",
        "  idf_score = v.idf_[indx]\n",
        "  print(f\"{word} {idf_score}\")"
      ],
      "metadata": {
        "colab": {
          "base_uri": "https://localhost:8080/"
        },
        "id": "GjdqC3Ls149b",
        "outputId": "8d0a2398-fa21-4bc8-bef2-4d3a89417d88"
      },
      "execution_count": null,
      "outputs": [
        {
          "output_type": "stream",
          "name": "stdout",
          "text": [
            "enjoy 1.916290731874155\n",
            "fun 1.916290731874155\n",
            "is 1.5108256237659907\n",
            "language 1.916290731874155\n",
            "learning 1.0\n",
            "love 1.916290731874155\n",
            "machine 1.2231435513142097\n",
            "natural 1.916290731874155\n",
            "new 1.916290731874155\n",
            "of 1.916290731874155\n",
            "part 1.916290731874155\n",
            "processing 1.916290731874155\n",
            "things 1.916290731874155\n"
          ]
        }
      ]
    },
    {
      "cell_type": "code",
      "source": [],
      "metadata": {
        "id": "SN7ZeFUl3MlP"
      },
      "execution_count": null,
      "outputs": []
    }
  ]
}